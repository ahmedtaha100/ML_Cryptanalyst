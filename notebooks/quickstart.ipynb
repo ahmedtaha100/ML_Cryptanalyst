{
 "cells": [
  {
   "cell_type": "markdown",
   "metadata": {},
   "source": [
    "# Neural Cryptanalyst Quick Start\n",
    "Install the package in editable mode."
   ]
  },
  {
   "cell_type": "code",
   "execution_count": null,
   "metadata": {},
   "outputs": [],
   "source": [
    "!pip install -e .."
   ]
  },
  {
   "cell_type": "code",
   "execution_count": null,
   "metadata": {},
   "outputs": [],
   "source": [
    "from neural_cryptanalyst import ProfiledAttack, SideChannelCNN\n",
    "# Initialize a simple attack\n",
    "attack = ProfiledAttack(model=SideChannelCNN(trace_length=5000))"
   ]
  },
  {
   "cell_type": "code",
   "execution_count": null,
   "metadata": {},
   "outputs": [],
   "source": [
    "from neural_cryptanalyst import plot_guessing_entropy_evolution\n",
    "# ... demonstrate plotting"
   ]
  }
 ],
 "metadata": {
  "kernelspec": {
   "display_name": "Python 3",
   "language": "python",
   "name": "python3"
  },
  "language_info": {
   "name": "python",
   "version": "3.8"
  }
 },
 "nbformat": 4,
 "nbformat_minor": 2
}
